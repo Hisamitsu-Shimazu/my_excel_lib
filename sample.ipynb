{
 "cells": [
  {
   "cell_type": "code",
   "execution_count": 1,
   "metadata": {},
   "outputs": [
    {
     "name": "stdout",
     "output_type": "stream",
     "text": [
      "'./output/sample_book.xlsx' file does not exist.\n",
      "Please run 'MyExcelLib.create_book()' method.\n",
      "'Sheet' sheet has been activated.\n"
     ]
    }
   ],
   "source": [
    "import os\n",
    "import my_excel_lib\n",
    "import pandas as pd\n",
    "\n",
    "file_path = './output'\n",
    "file_name = 'sample_book.xlsx'\n",
    "\n",
    "# 既存のbook削除\n",
    "if os.path.exists(file_path + file_name):\n",
    "    os.remove(file_path + file_name)\n",
    "\n",
    "df = pd.DataFrame({\n",
    "    'カラム1':[0,1,2,3,4],\n",
    "    'カラム2':[5,6,7,8,9]\n",
    "})\n",
    "\n",
    "# 新規book作成\n",
    "new_book = my_excel_lib.MyExcelLib(file_path, file_name)\n",
    "new_book.create_book()"
   ]
  },
  {
   "cell_type": "code",
   "execution_count": 2,
   "metadata": {},
   "outputs": [
    {
     "name": "stdout",
     "output_type": "stream",
     "text": [
      "'サンプル1' sheet has been activated.\n",
      "'サンプル2' sheet has been activated.\n",
      "save ./output/sample_book.xlsx\n"
     ]
    }
   ],
   "source": [
    "new_book.set_sheet_name('サンプル1', 0)\n",
    "new_book.add_sheet('サンプル2')\n",
    "\n",
    "# サンプル1 シート\n",
    "new_book.activate_sheet('サンプル1')\n",
    "new_book.set_value('■ 見出し1', (2, 2), 'h1')\n",
    "new_book.set_value('■ 見出し2', (3, 2), 'h2')\n",
    "new_book.set_value('■ 見出し3', (4, 2), 'h3')\n",
    "new_book.set_value('本文', (5, 3))\n",
    "new_book.set_value('ハイライト', (6, 3), 'highlight')\n",
    "new_book.set_link2cell('サンプル2シートへのリンク', 'サンプル2', (1, 1), (7, 3))\n",
    "new_book.set_link2web('GitHub', 'https://github.com/Hisamitsu-Shimazu/my_excel_lib', (8, 3))\n",
    "new_book.concat_cells((9, 3), (9, 5))\n",
    "new_book.set_value('結合セル', (9, 3))\n",
    "new_book.concat_cells((10, 3), (10, 5))\n",
    "new_book.set_value('結合セルへ書式設定', (10, 3), 'table_head')\n",
    "\n",
    "# サンプル2 シート\n",
    "new_book.activate_sheet('サンプル2')\n",
    "new_book.set_height(5, 1)\n",
    "new_book.set_width(1, 'A')\n",
    "new_book.set_value('■ 見出し1', (2, 2), 'h1')\n",
    "new_book.set_value('表見出し', (3, 3), 'table_head')\n",
    "new_book.set_value('表見出し', (4, 3), 'table_head')\n",
    "new_book.set_value('表見出し', (3, 4), 'table_value')\n",
    "new_book.set_value('表値', (4, 4), 'table_value')\n",
    "new_book.set_value('■ 見出し2', (6, 2), 'h2')\n",
    "new_book.set_df(df, (7, 3))\n",
    "\n",
    "new_book.save_book()"
   ]
  },
  {
   "cell_type": "code",
   "execution_count": null,
   "metadata": {},
   "outputs": [],
   "source": [
    "# 既存book読込み\n",
    "book = my_excel_lib.MyExcelLib(file_path, file_name)\n",
    "book.load_book()\n",
    "\n",
    "book.save_book()"
   ]
  }
 ],
 "metadata": {
  "interpreter": {
   "hash": "284aa8274047c0bc8909dffcff0384508963178153a4b5140129599f68da597c"
  },
  "kernelspec": {
   "display_name": "Python 3.10.3 ('.venv': venv)",
   "language": "python",
   "name": "python3"
  },
  "language_info": {
   "codemirror_mode": {
    "name": "ipython",
    "version": 3
   },
   "file_extension": ".py",
   "mimetype": "text/x-python",
   "name": "python",
   "nbconvert_exporter": "python",
   "pygments_lexer": "ipython3",
   "version": "3.10.3"
  },
  "orig_nbformat": 4
 },
 "nbformat": 4,
 "nbformat_minor": 2
}
