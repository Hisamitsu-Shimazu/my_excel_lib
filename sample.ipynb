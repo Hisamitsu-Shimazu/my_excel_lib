{
 "cells": [
  {
   "cell_type": "code",
   "execution_count": 1,
   "metadata": {},
   "outputs": [],
   "source": [
    "import my_excel_lib\n",
    "\n",
    "file_path = './output/'\n",
    "file_name = 'sample_book.xlsx'"
   ]
  },
  {
   "cell_type": "code",
   "execution_count": 2,
   "metadata": {},
   "outputs": [
    {
     "name": "stdout",
     "output_type": "stream",
     "text": [
      "create new book.\n",
      "save ./output/sample_book.xlsx\n"
     ]
    }
   ],
   "source": [
    "# 新規book作成\n",
    "new_book = my_excel_lib.MyExcelLib(file_path, file_name)\n",
    "new_book.create_new_book()\n",
    "\n",
    "new_book.save_book()"
   ]
  },
  {
   "cell_type": "code",
   "execution_count": 3,
   "metadata": {},
   "outputs": [
    {
     "name": "stdout",
     "output_type": "stream",
     "text": [
      "load ./output/sample_book.xlsx\n",
      "save ./output/sample_book.xlsx\n"
     ]
    }
   ],
   "source": [
    "# 既存book読込み\n",
    "book = my_excel_lib.MyExcelLib(file_path, file_name)\n",
    "book.load_book()\n",
    "\n",
    "book.save_book()"
   ]
  }
 ],
 "metadata": {
  "interpreter": {
   "hash": "284aa8274047c0bc8909dffcff0384508963178153a4b5140129599f68da597c"
  },
  "kernelspec": {
   "display_name": "Python 3.10.3 ('.venv': venv)",
   "language": "python",
   "name": "python3"
  },
  "language_info": {
   "codemirror_mode": {
    "name": "ipython",
    "version": 3
   },
   "file_extension": ".py",
   "mimetype": "text/x-python",
   "name": "python",
   "nbconvert_exporter": "python",
   "pygments_lexer": "ipython3",
   "version": "3.10.3"
  },
  "orig_nbformat": 4
 },
 "nbformat": 4,
 "nbformat_minor": 2
}
