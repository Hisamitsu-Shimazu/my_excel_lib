{
 "cells": [
  {
   "cell_type": "code",
   "execution_count": 1,
   "metadata": {},
   "outputs": [
    {
     "name": "stdout",
     "output_type": "stream",
     "text": [
      "create new book.\n"
     ]
    }
   ],
   "source": [
    "import os\n",
    "import my_excel_lib\n",
    "import pandas as pd\n",
    "\n",
    "file_path = './output/'\n",
    "file_name = 'sample_book.xlsx'\n",
    "\n",
    "# 既存のbook削除\n",
    "if os.path.exists(file_path + file_name):\n",
    "    os.remove(file_path + file_name)\n",
    "\n",
    "df = pd.DataFrame({\n",
    "    'カラム1':[0,1,2,3,4],\n",
    "    'カラム2':[5,6,7,8,9]\n",
    "})\n",
    "\n",
    "# 新規book作成\n",
    "new_book = my_excel_lib.MyExcelLib(file_path, file_name)"
   ]
  },
  {
   "cell_type": "code",
   "execution_count": 2,
   "metadata": {},
   "outputs": [
    {
     "name": "stdout",
     "output_type": "stream",
     "text": [
      "save ./output/sample_book.xlsx\n"
     ]
    }
   ],
   "source": [
    "# サンプル1 シート\n",
    "new_book.set_sheet_name('サンプル1', 0)\n",
    "new_book.set_value('■ 見出し1', 'サンプル1', (2, 2), 'h1')\n",
    "new_book.set_value('■ 見出し2', 'サンプル1', (3, 2), 'h2')\n",
    "new_book.set_value('■ 見出し3', 'サンプル1', (4, 2), 'h3')\n",
    "new_book.set_value('本文', 'サンプル1', (5, 3))\n",
    "new_book.set_value('ハイライト', 'サンプル1', (6, 3), 'highlight')\n",
    "new_book.set_hyperlink_to_cell('サンプル2', 'サンプル2', (1, 1), 'サンプル1', (7, 3))\n",
    "new_book.concat_cells('サンプル1', (8, 3), (8,5))\n",
    "new_book.set_value('結合セル', 'サンプル1', (8, 3))\n",
    "\n",
    "# サンプル2 シート\n",
    "new_book.add_sheet('サンプル2')\n",
    "new_book.set_value('■ 見出し1', 'サンプル2', (2, 2), 'h1')\n",
    "new_book.set_value('表見出し', 'サンプル2', (3, 3), 'table_head')\n",
    "new_book.set_value('表見出し', 'サンプル2', (4, 3), 'table_head')\n",
    "new_book.set_value('表見出し', 'サンプル2', (3, 4), 'table_value')\n",
    "new_book.set_value('表値', 'サンプル2', (4, 4), 'table_value')\n",
    "new_book.set_value('■ 見出し2', 'サンプル2', (6, 2), 'h2')\n",
    "new_book.set_df(df, 'サンプル2', (7, 3))\n",
    "\n",
    "new_book.save_book()"
   ]
  },
  {
   "cell_type": "code",
   "execution_count": null,
   "metadata": {},
   "outputs": [],
   "source": [
    "# 既存book読込み\n",
    "book = my_excel_lib.MyExcelLib(file_path, file_name)\n",
    "book.load_book()\n",
    "\n",
    "book.save_book()"
   ]
  }
 ],
 "metadata": {
  "interpreter": {
   "hash": "284aa8274047c0bc8909dffcff0384508963178153a4b5140129599f68da597c"
  },
  "kernelspec": {
   "display_name": "Python 3.10.3 ('.venv': venv)",
   "language": "python",
   "name": "python3"
  },
  "language_info": {
   "codemirror_mode": {
    "name": "ipython",
    "version": 3
   },
   "file_extension": ".py",
   "mimetype": "text/x-python",
   "name": "python",
   "nbconvert_exporter": "python",
   "pygments_lexer": "ipython3",
   "version": "3.10.3"
  },
  "orig_nbformat": 4
 },
 "nbformat": 4,
 "nbformat_minor": 2
}
