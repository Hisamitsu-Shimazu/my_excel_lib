{
 "cells": [
  {
   "cell_type": "code",
   "execution_count": 1,
   "metadata": {},
   "outputs": [
    {
     "name": "stdout",
     "output_type": "stream",
     "text": [
      "'./output/sample_book.xlsx' file does not exist.\n",
      "Please run 'MyExcelLib.create_book()' method.\n",
      "'Sheet' sheet has been activated.\n"
     ]
    }
   ],
   "source": [
    "import os\n",
    "import my_excel_lib\n",
    "import pandas as pd\n",
    "\n",
    "file_path = './output'\n",
    "file_name = 'sample_book.xlsx'\n",
    "\n",
    "# 既存のbook削除\n",
    "if os.path.exists(file_path + file_name):\n",
    "    os.remove(file_path + file_name)\n",
    "\n",
    "df = pd.DataFrame({\n",
    "    'カラム1':[0,1,2,3,4],\n",
    "    'カラム2':[5,6,7,8,9]\n",
    "})\n",
    "\n",
    "# 新規book作成\n",
    "new_book = my_excel_lib.MyExcelLib(file_path, file_name)\n",
    "new_book.create_book()"
   ]
  },
  {
   "cell_type": "code",
   "execution_count": 2,
   "metadata": {},
   "outputs": [
    {
     "name": "stdout",
     "output_type": "stream",
     "text": [
      "'サンプル1' sheet has been activated.\n"
     ]
    },
    {
     "ename": "TypeError",
     "evalue": "MyExcelLib._is_merged_cell() takes 2 positional arguments but 3 were given",
     "output_type": "error",
     "traceback": [
      "\u001b[0;31m---------------------------------------------------------------------------\u001b[0m",
      "\u001b[0;31mTypeError\u001b[0m                                 Traceback (most recent call last)",
      "\u001b[1;32m/Users/nagasawashuuhei/Analysis/my_excel_lib/my_excel_lib/sample.ipynb Cell 2'\u001b[0m in \u001b[0;36m<cell line: 16>\u001b[0;34m()\u001b[0m\n\u001b[1;32m     <a href='vscode-notebook-cell:/Users/nagasawashuuhei/Analysis/my_excel_lib/my_excel_lib/sample.ipynb#ch0000001?line=13'>14</a>\u001b[0m new_book\u001b[39m.\u001b[39mset_value(\u001b[39m'\u001b[39m\u001b[39m結合セル\u001b[39m\u001b[39m'\u001b[39m, (\u001b[39m9\u001b[39m, \u001b[39m3\u001b[39m))\n\u001b[1;32m     <a href='vscode-notebook-cell:/Users/nagasawashuuhei/Analysis/my_excel_lib/my_excel_lib/sample.ipynb#ch0000001?line=14'>15</a>\u001b[0m new_book\u001b[39m.\u001b[39mconcat_cells((\u001b[39m10\u001b[39m, \u001b[39m3\u001b[39m), (\u001b[39m10\u001b[39m, \u001b[39m5\u001b[39m))\n\u001b[0;32m---> <a href='vscode-notebook-cell:/Users/nagasawashuuhei/Analysis/my_excel_lib/my_excel_lib/sample.ipynb#ch0000001?line=15'>16</a>\u001b[0m new_book\u001b[39m.\u001b[39;49mset_value(\u001b[39m'\u001b[39;49m\u001b[39m結合セルへ書式設定\u001b[39;49m\u001b[39m'\u001b[39;49m, (\u001b[39m10\u001b[39;49m, \u001b[39m3\u001b[39;49m), \u001b[39m'\u001b[39;49m\u001b[39mtable_head\u001b[39;49m\u001b[39m'\u001b[39;49m)\n\u001b[1;32m     <a href='vscode-notebook-cell:/Users/nagasawashuuhei/Analysis/my_excel_lib/my_excel_lib/sample.ipynb#ch0000001?line=17'>18</a>\u001b[0m \u001b[39m# サンプル2 シート\u001b[39;00m\n\u001b[1;32m     <a href='vscode-notebook-cell:/Users/nagasawashuuhei/Analysis/my_excel_lib/my_excel_lib/sample.ipynb#ch0000001?line=18'>19</a>\u001b[0m new_book\u001b[39m.\u001b[39mactivate_sheet(\u001b[39m'\u001b[39m\u001b[39mサンプル2\u001b[39m\u001b[39m'\u001b[39m)\n",
      "File \u001b[0;32m~/Analysis/my_excel_lib/my_excel_lib/my_excel_lib.py:99\u001b[0m, in \u001b[0;36mMyExcelLib.set_value\u001b[0;34m(self, value, position, style)\u001b[0m\n\u001b[1;32m     <a href='file:///Users/nagasawashuuhei/Analysis/my_excel_lib/my_excel_lib/my_excel_lib.py?line=96'>97</a>\u001b[0m cell \u001b[39m=\u001b[39m sheet\u001b[39m.\u001b[39mcell(\u001b[39m*\u001b[39mposition)\n\u001b[1;32m     <a href='file:///Users/nagasawashuuhei/Analysis/my_excel_lib/my_excel_lib/my_excel_lib.py?line=97'>98</a>\u001b[0m cell\u001b[39m.\u001b[39mvalue \u001b[39m=\u001b[39m value\n\u001b[0;32m---> <a href='file:///Users/nagasawashuuhei/Analysis/my_excel_lib/my_excel_lib/my_excel_lib.py?line=98'>99</a>\u001b[0m \u001b[39mself\u001b[39;49m\u001b[39m.\u001b[39;49mset_style(position, style)\n",
      "File \u001b[0;32m~/Analysis/my_excel_lib/my_excel_lib/my_excel_lib.py:165\u001b[0m, in \u001b[0;36mMyExcelLib.set_style\u001b[0;34m(self, position, style)\u001b[0m\n\u001b[1;32m    <a href='file:///Users/nagasawashuuhei/Analysis/my_excel_lib/my_excel_lib/my_excel_lib.py?line=162'>163</a>\u001b[0m     cell\u001b[39m.\u001b[39mfill \u001b[39m=\u001b[39m openpyxl\u001b[39m.\u001b[39mstyles\u001b[39m.\u001b[39mPatternFill(\u001b[39m*\u001b[39m\u001b[39m*\u001b[39mstyle[\u001b[39m'\u001b[39m\u001b[39mfill\u001b[39m\u001b[39m'\u001b[39m])\n\u001b[1;32m    <a href='file:///Users/nagasawashuuhei/Analysis/my_excel_lib/my_excel_lib/my_excel_lib.py?line=163'>164</a>\u001b[0m \u001b[39mif\u001b[39;00m \u001b[39m'\u001b[39m\u001b[39mborder\u001b[39m\u001b[39m'\u001b[39m \u001b[39min\u001b[39;00m style\u001b[39m.\u001b[39mkeys():\n\u001b[0;32m--> <a href='file:///Users/nagasawashuuhei/Analysis/my_excel_lib/my_excel_lib/my_excel_lib.py?line=164'>165</a>\u001b[0m     is_merged_cell \u001b[39m=\u001b[39m \u001b[39mself\u001b[39;49m\u001b[39m.\u001b[39;49m_is_merged_cell(sheet, position)\n\u001b[1;32m    <a href='file:///Users/nagasawashuuhei/Analysis/my_excel_lib/my_excel_lib/my_excel_lib.py?line=165'>166</a>\u001b[0m     \u001b[39mif\u001b[39;00m is_merged_cell: \u001b[39m# 結合セル\u001b[39;00m\n\u001b[1;32m    <a href='file:///Users/nagasawashuuhei/Analysis/my_excel_lib/my_excel_lib/my_excel_lib.py?line=166'>167</a>\u001b[0m         target_cell \u001b[39m=\u001b[39m [sheet\u001b[39m.\u001b[39mcell(\u001b[39m*\u001b[39mp) \u001b[39mfor\u001b[39;00m p \u001b[39min\u001b[39;00m is_merged_cell]\n",
      "\u001b[0;31mTypeError\u001b[0m: MyExcelLib._is_merged_cell() takes 2 positional arguments but 3 were given"
     ]
    }
   ],
   "source": [
    "new_book.set_sheet_name('サンプル1', 0)\n",
    "new_book.add_sheet('サンプル2')\n",
    "\n",
    "# サンプル1 シート\n",
    "new_book.activate_sheet('サンプル1')\n",
    "new_book.set_value('■ 見出し1', (2, 2), 'h1')\n",
    "new_book.set_value('■ 見出し2', (3, 2), 'h2')\n",
    "new_book.set_value('■ 見出し3', (4, 2), 'h3')\n",
    "new_book.set_value('本文', (5, 3))\n",
    "new_book.set_value('ハイライト', (6, 3), 'highlight')\n",
    "new_book.set_link2cell('サンプル2シートへのリンク', 'サンプル2', (1, 1), (7, 3))\n",
    "new_book.set_link2web('GitHub', 'https://github.com/Hisamitsu-Shimazu/my_excel_lib', (8, 3))\n",
    "new_book.concat_cells((9, 3), (9, 5))\n",
    "new_book.set_value('結合セル', (9, 3))\n",
    "new_book.concat_cells((10, 3), (10, 5))\n",
    "new_book.set_value('結合セルへ書式設定', (10, 3), 'table_head')\n",
    "\n",
    "# サンプル2 シート\n",
    "new_book.activate_sheet('サンプル2')\n",
    "new_book.set_height(5, 1)\n",
    "new_book.set_width(1, 'A')\n",
    "new_book.set_value('■ 見出し1', (2, 2), 'h1')\n",
    "new_book.set_value('表見出し', (3, 3), 'table_head')\n",
    "new_book.set_value('表見出し', (4, 3), 'table_head')\n",
    "new_book.set_value('表見出し', (3, 4), 'table_value')\n",
    "new_book.set_value('表値', (4, 4), 'table_value')\n",
    "new_book.set_value('■ 見出し2', (6, 2), 'h2')\n",
    "new_book.set_df(df, (7, 3))\n",
    "\n",
    "new_book.save_book()"
   ]
  },
  {
   "cell_type": "code",
   "execution_count": null,
   "metadata": {},
   "outputs": [],
   "source": [
    "# 既存book読込み\n",
    "book = my_excel_lib.MyExcelLib(file_path, file_name)\n",
    "book.load_book()\n",
    "\n",
    "book.save_book()"
   ]
  }
 ],
 "metadata": {
  "interpreter": {
   "hash": "284aa8274047c0bc8909dffcff0384508963178153a4b5140129599f68da597c"
  },
  "kernelspec": {
   "display_name": "Python 3.10.3 ('.venv': venv)",
   "language": "python",
   "name": "python3"
  },
  "language_info": {
   "codemirror_mode": {
    "name": "ipython",
    "version": 3
   },
   "file_extension": ".py",
   "mimetype": "text/x-python",
   "name": "python",
   "nbconvert_exporter": "python",
   "pygments_lexer": "ipython3",
   "version": "3.10.3"
  },
  "orig_nbformat": 4
 },
 "nbformat": 4,
 "nbformat_minor": 2
}
