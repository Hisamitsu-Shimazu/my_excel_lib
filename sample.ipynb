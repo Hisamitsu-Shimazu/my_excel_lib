{
 "cells": [
  {
   "cell_type": "code",
   "execution_count": 1,
   "metadata": {},
   "outputs": [
    {
     "name": "stdout",
     "output_type": "stream",
     "text": [
      "create new book.\n"
     ]
    }
   ],
   "source": [
    "import os\n",
    "import my_excel_lib\n",
    "\n",
    "file_path = './output/'\n",
    "file_name = 'sample_book.xlsx'\n",
    "\n",
    "# 既存のbook削除\n",
    "if os.path.exists(file_path + file_name):\n",
    "    os.remove(file_path + file_name)\n",
    "\n",
    "# 新規book作成\n",
    "new_book = my_excel_lib.MyExcelLib(file_path, file_name)"
   ]
  },
  {
   "cell_type": "code",
   "execution_count": 2,
   "metadata": {},
   "outputs": [
    {
     "ename": "TypeError",
     "evalue": "MyExcelLib.set_sheet_name() missing 1 required positional argument: 'index'",
     "output_type": "error",
     "traceback": [
      "\u001b[0;31m---------------------------------------------------------------------------\u001b[0m",
      "\u001b[0;31mTypeError\u001b[0m                                 Traceback (most recent call last)",
      "\u001b[1;32m/Users/nagasawashuuhei/Analysis/my_excel_lib/my_excel_lib/sample.ipynb Cell 2'\u001b[0m in \u001b[0;36m<cell line: 1>\u001b[0;34m()\u001b[0m\n\u001b[0;32m----> <a href='vscode-notebook-cell:/Users/nagasawashuuhei/Analysis/my_excel_lib/my_excel_lib/sample.ipynb#ch0000004?line=0'>1</a>\u001b[0m new_book\u001b[39m.\u001b[39;49mset_sheet_name(\u001b[39m'\u001b[39;49m\u001b[39mサンプル1\u001b[39;49m\u001b[39m'\u001b[39;49m)\n\u001b[1;32m      <a href='vscode-notebook-cell:/Users/nagasawashuuhei/Analysis/my_excel_lib/my_excel_lib/sample.ipynb#ch0000004?line=1'>2</a>\u001b[0m new_book\u001b[39m.\u001b[39mset_value(\u001b[39m'\u001b[39m\u001b[39m◼︎ 見出し1\u001b[39m\u001b[39m'\u001b[39m, \u001b[39m'\u001b[39m\u001b[39mSheet\u001b[39m\u001b[39m'\u001b[39m, (\u001b[39m2\u001b[39m, \u001b[39m2\u001b[39m), \u001b[39m'\u001b[39m\u001b[39mh1\u001b[39m\u001b[39m'\u001b[39m)\n\u001b[1;32m      <a href='vscode-notebook-cell:/Users/nagasawashuuhei/Analysis/my_excel_lib/my_excel_lib/sample.ipynb#ch0000004?line=2'>3</a>\u001b[0m new_book\u001b[39m.\u001b[39mset_value(\u001b[39m'\u001b[39m\u001b[39m◼︎ 見出し2\u001b[39m\u001b[39m'\u001b[39m, \u001b[39m'\u001b[39m\u001b[39mSheet\u001b[39m\u001b[39m'\u001b[39m, (\u001b[39m3\u001b[39m, \u001b[39m2\u001b[39m), \u001b[39m'\u001b[39m\u001b[39mh2\u001b[39m\u001b[39m'\u001b[39m)\n",
      "\u001b[0;31mTypeError\u001b[0m: MyExcelLib.set_sheet_name() missing 1 required positional argument: 'index'"
     ]
    }
   ],
   "source": [
    "new_book.set_sheet_name('サンプル1', 0)\n",
    "new_book.set_value('◼︎ 見出し1', 'Sheet', (2, 2), 'h1')\n",
    "new_book.set_value('◼︎ 見出し2', 'Sheet', (3, 2), 'h2')\n",
    "new_book.set_value('◼︎ 見出し3', 'Sheet', (4, 2), 'h3')\n",
    "\n",
    "new_book.set_value('本文', 'Sheet', (5, 3))\n",
    "new_book.set_value('ハイライト', 'Sheet', (6, 3), 'highlight')\n",
    "\n",
    "new_book.set_value('表見出し', 'Sheet', (8, 3), 'table_head')\n",
    "new_book.set_value('表見出し', 'Sheet', (9, 3), 'table_head')\n",
    "new_book.set_value('表見出し', 'Sheet', (8, 4), 'table_value')\n",
    "new_book.set_value('表値', 'Sheet', (9, 4), 'table_value')\n",
    "\n",
    "new_book.save_book()"
   ]
  },
  {
   "cell_type": "code",
   "execution_count": 3,
   "metadata": {},
   "outputs": [
    {
     "name": "stdout",
     "output_type": "stream",
     "text": [
      "load ./output/sample_book.xlsx\n",
      "save ./output/sample_book.xlsx\n"
     ]
    }
   ],
   "source": [
    "# 既存book読込み\n",
    "book = my_excel_lib.MyExcelLib(file_path, file_name)\n",
    "book.load_book()\n",
    "\n",
    "book.save_book()"
   ]
  }
 ],
 "metadata": {
  "interpreter": {
   "hash": "284aa8274047c0bc8909dffcff0384508963178153a4b5140129599f68da597c"
  },
  "kernelspec": {
   "display_name": "Python 3.10.3 ('.venv': venv)",
   "language": "python",
   "name": "python3"
  },
  "language_info": {
   "codemirror_mode": {
    "name": "ipython",
    "version": 3
   },
   "file_extension": ".py",
   "mimetype": "text/x-python",
   "name": "python",
   "nbconvert_exporter": "python",
   "pygments_lexer": "ipython3",
   "version": "3.10.3"
  },
  "orig_nbformat": 4
 },
 "nbformat": 4,
 "nbformat_minor": 2
}
